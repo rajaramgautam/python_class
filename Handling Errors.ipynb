{
 "cells": [
  {
   "cell_type": "markdown",
   "id": "db7815b9",
   "metadata": {},
   "source": [
    "# Handling Errors"
   ]
  },
  {
   "cell_type": "code",
   "execution_count": null,
   "id": "3f2fd9d2",
   "metadata": {},
   "outputs": [],
   "source": [
    "n = int(input(\"Please enter a number: \")) ### <<< enter 25.7\n",
    "\n",
    "print(n)"
   ]
  },
  {
   "cell_type": "code",
   "execution_count": null,
   "id": "88d8fd2b",
   "metadata": {},
   "outputs": [],
   "source": [
    "name=\"bond\"\n",
    "if name==\"bundy\"\n",
    "    print(\"You are bundy\")"
   ]
  },
  {
   "cell_type": "code",
   "execution_count": null,
   "id": "375207a1",
   "metadata": {},
   "outputs": [],
   "source": [
    "def  myfunction( rate ):\n",
    "   if rate < 1:\n",
    "      raise \"Invalid rate!\", rate"
   ]
  },
  {
   "cell_type": "code",
   "execution_count": null,
   "id": "09f6d69c",
   "metadata": {},
   "outputs": [],
   "source": [
    "import sys\n",
    "try:\n",
    "    7/0\n",
    "except ArithmeticError as AE:\n",
    "    print ('AE')\n",
    "    print ('sys.exc_type')\n",
    "    print ('This is an example of catching ArithmeticError')"
   ]
  },
  {
   "cell_type": "code",
   "execution_count": null,
   "id": "46652665",
   "metadata": {},
   "outputs": [],
   "source": [
    "i=1\n",
    "try:\n",
    "    f = 3.0**i\n",
    "    for i in range(100):\n",
    "        print (i, f)\n",
    "        f = f ** 2\n",
    "except OverflowError as err:\n",
    "    print ('Overflowed after ', f, err)"
   ]
  },
  {
   "cell_type": "code",
   "execution_count": null,
   "id": "1b66591a",
   "metadata": {},
   "outputs": [],
   "source": [
    "import sys\n",
    "import math\n",
    "import fpectl # I have not installed fpectl module in my machine so I am getting error\n",
    "try:\n",
    "    print ('Control off:', math.exp(700))\n",
    "    fpectl.turnon_sigfpe()\n",
    "    print ('Control on:', math.exp(1000))\n",
    "except FloatingPointError as FPE:\n",
    "    print('FPE')\n",
    "    print('sys.exc_type')"
   ]
  },
  {
   "cell_type": "code",
   "execution_count": null,
   "id": "e06fafb9",
   "metadata": {},
   "outputs": [],
   "source": [
    "# SyntaxError\n",
    "try:\n",
    "    print(six times seven)\n",
    "except SyntaxError as err:\n",
    "    print(six times seven)\n",
    "    (err.filename, err.lineno, err.offset, err.text)\n",
    "    print err"
   ]
  },
  {
   "cell_type": "code",
   "execution_count": null,
   "id": "35f19e6a",
   "metadata": {},
   "outputs": [],
   "source": [
    "try:\n",
    "    print eval('six times seven')\n",
    "except SyntaxError, err:\n",
    "    print 'Syntax error %s (%s-%s): %s' % \\\n",
    "    (err.filename, err.lineno, err.offset, err.text)\n",
    "    print err"
   ]
  },
  {
   "cell_type": "code",
   "execution_count": null,
   "id": "332da511",
   "metadata": {},
   "outputs": [],
   "source": [
    "try:\n",
    "    string1 = input(\"Enter a number: \")\n",
    "    num1 = float(string1)\n",
    "except ValueError:\n",
    "    print(\"You did not enter a number!\")\n",
    "else:\n",
    "    print(\"Your number: \" + str(num1))"
   ]
  },
  {
   "cell_type": "code",
   "execution_count": 3,
   "id": "37f5832d",
   "metadata": {},
   "outputs": [
    {
     "name": "stdout",
     "output_type": "stream",
     "text": [
      "Enter a number: \n",
      "You did not enter a number!\n"
     ]
    }
   ],
   "source": [
    "try:\n",
    "    string1 = input(\"Enter a number: \")\n",
    "    num1 = float(string1)\n",
    "except:\n",
    "    print(\"You did not enter a number!\")\n",
    "else:\n",
    "    print(\"Your number: \" + str(num1))"
   ]
  },
  {
   "cell_type": "code",
   "execution_count": 5,
   "id": "e452a689",
   "metadata": {},
   "outputs": [
    {
     "name": "stdout",
     "output_type": "stream",
     "text": [
      "Enter a number: \n",
      "You entered ''\n",
      "You did not enter a number.\n"
     ]
    }
   ],
   "source": [
    "try:\n",
    "    string1 = input(\"Enter a number: \")\n",
    "    num1 = float(string1)\n",
    "except ValueError:\n",
    "    print(\"You entered '\" + string1 + \"'\")\n",
    "    print(\"You did not enter a number.\")\n",
    "except KeyboardInterrupt:\n",
    "    print(\"You used Ctrl + C to end the program.\")\n",
    "else:\n",
    "    print(\"Your number: \" + str(num1))"
   ]
  },
  {
   "cell_type": "code",
   "execution_count": 6,
   "id": "8eb1c210",
   "metadata": {},
   "outputs": [],
   "source": [
    "class NegativeInputError(Exception):\n",
    "    pass\n",
    "class Over100Error(Exception):\n",
    "    pass "
   ]
  },
  {
   "cell_type": "code",
   "execution_count": 8,
   "id": "ea5af50f",
   "metadata": {},
   "outputs": [
    {
     "name": "stdout",
     "output_type": "stream",
     "text": [
      "Enter one character: ad\n",
      "You did not enter 1 character.\n",
      "Bye now\n"
     ]
    }
   ],
   "source": [
    "try:\n",
    "    str1 = input(\"Enter one character: \")\n",
    "    num = ord(str1)\n",
    "    print (num)\n",
    "except TypeError:\n",
    "    print(\"You did not enter 1 character.\")\n",
    "finally:\n",
    "    print(\"Bye now\")"
   ]
  },
  {
   "cell_type": "code",
   "execution_count": null,
   "id": "3be28d6b",
   "metadata": {},
   "outputs": [],
   "source": []
  }
 ],
 "metadata": {
  "kernelspec": {
   "display_name": "Python 3 (ipykernel)",
   "language": "python",
   "name": "python3"
  },
  "language_info": {
   "codemirror_mode": {
    "name": "ipython",
    "version": 3
   },
   "file_extension": ".py",
   "mimetype": "text/x-python",
   "name": "python",
   "nbconvert_exporter": "python",
   "pygments_lexer": "ipython3",
   "version": "3.8.8"
  }
 },
 "nbformat": 4,
 "nbformat_minor": 5
}
