{
 "cells": [
  {
   "cell_type": "markdown",
   "id": "8039d2d7",
   "metadata": {},
   "source": [
    "### Python as Object Oriented Programming Language"
   ]
  },
  {
   "cell_type": "code",
   "execution_count": 1,
   "id": "1ec1bf96",
   "metadata": {},
   "outputs": [],
   "source": [
    "class Person:\n",
    "\n",
    "      fname=\"\"\n",
    "\n",
    "      lname=\"\""
   ]
  },
  {
   "cell_type": "code",
   "execution_count": 2,
   "id": "2c45ff7f",
   "metadata": {},
   "outputs": [],
   "source": [
    "pat = Person()       # creating pat object from Person class\n",
    "\n",
    "pat.fname=\"Patrick\"  # setting fname for pat object\n",
    "\n",
    "pat.lname=\"Mansour\"  # setting lname for pat object"
   ]
  },
  {
   "cell_type": "code",
   "execution_count": 3,
   "id": "2586cc3b",
   "metadata": {},
   "outputs": [],
   "source": [
    "sam = Person()       # creating sam object from Person class\n",
    "\n",
    "sam.fname=\"Sammy\"    # setting fname for sam object\n",
    "\n",
    "sam.lname=\"Bond\"     # setting lname for sam object\n",
    "\n"
   ]
  },
  {
   "cell_type": "code",
   "execution_count": 4,
   "id": "f43709ec",
   "metadata": {},
   "outputs": [
    {
     "name": "stdout",
     "output_type": "stream",
     "text": [
      "Sammy    Bond\n",
      "Patrick    Mansour\n"
     ]
    }
   ],
   "source": [
    "print(sam.fname,\"  \", sam.lname )   # print name for sam   \n",
    "\n",
    "print(pat.fname,\"  \", pat.lname )   # print name for pat"
   ]
  },
  {
   "cell_type": "code",
   "execution_count": 5,
   "id": "fb5ea734",
   "metadata": {},
   "outputs": [],
   "source": [
    "# Simple class person with\n",
    "\n",
    "# fname and lname\n",
    "\n",
    "class Person:\n",
    "\n",
    "      fname=\"\"\n",
    "\n",
    "      lname=\"\"\n",
    "\n",
    "      def myName(self):  # method to return the name\n",
    "\n",
    "          return self.fname+\" \"+self.lname \n",
    "\n",
    "          # the self key word refer to the class variable, if you omit the “self”, the code will look for global variable."
   ]
  },
  {
   "cell_type": "code",
   "execution_count": 6,
   "id": "bb6bf641",
   "metadata": {},
   "outputs": [
    {
     "data": {
      "text/plain": [
       "<function __main__.Person.myName(self)>"
      ]
     },
     "execution_count": 6,
     "metadata": {},
     "output_type": "execute_result"
    }
   ],
   "source": [
    "Person.myName"
   ]
  },
  {
   "cell_type": "code",
   "execution_count": 7,
   "id": "714ff287",
   "metadata": {},
   "outputs": [
    {
     "name": "stdout",
     "output_type": "stream",
     "text": [
      "Sammy    Bond\n",
      "Patrick    Mansour\n",
      "---- Print name using myName method ----\n",
      "Patrick Mansour\n",
      "Sammy Bond\n"
     ]
    }
   ],
   "source": [
    "#The above method will return fname, lname only, it does not print the results. \n",
    "# Here is how to use the print() function with the user defined object. \n",
    "# You need to create the object first then you the print() function.\n",
    "\n",
    "         \n",
    "\n",
    "# creating pat object from Person class\n",
    "\n",
    "pat = Person()      \n",
    "\n",
    "pat.fname=\"Patrick\"  # setting fname for pat object\n",
    "\n",
    "pat.lname=\"Mansour\"  # setting lname for pat object\n",
    "\n",
    " \n",
    "\n",
    " \n",
    "\n",
    "sam = Person()       # creating sam object from Person class\n",
    "\n",
    "sam.fname=\"Sammy\"    # setting fname for sam object\n",
    "\n",
    "sam.lname=\"Bond\"     # setting lname for sam object\n",
    "\n",
    " \n",
    "\n",
    "print(sam.fname,\"  \", sam.lname )   # print name for sam   \n",
    "\n",
    "print(pat.fname,\"  \", pat.lname )   # print name for pat\n",
    "\n",
    " \n",
    "\n",
    "print(\"---- Print name using myName method ----\")\n",
    "\n",
    "print(pat.myName() )   # print name for pat using method myName\n",
    "\n",
    "print(sam.myName() )   # print name for sam using method myName"
   ]
  },
  {
   "cell_type": "markdown",
   "id": "aa0e82ab",
   "metadata": {},
   "source": [
    "### Class variable: In the program below, we are going to use class variable, a class variable is a variable that is used for all objects in that class, let us say we want to count the number of  objects in the class (Note, the code below is just an example, I will show a better way to use class variable)"
   ]
  },
  {
   "cell_type": "code",
   "execution_count": 8,
   "id": "ef3b4a8f",
   "metadata": {},
   "outputs": [
    {
     "name": "stdout",
     "output_type": "stream",
     "text": [
      "Sammy    Bond\n",
      "Patrick    Mansour\n",
      "---- Print name using myName method ----\n",
      "Patrick Mansour Sales\n",
      "Sammy Bond Instructor\n",
      "Number of objects for this class 2\n"
     ]
    }
   ],
   "source": [
    "# Simple class person with\n",
    "\n",
    "# fname and lname\n",
    "\n",
    "class Person:\n",
    "\n",
    "      fname=\"\"\n",
    "\n",
    "      lname=\"\"\n",
    "\n",
    "      countPerson=0  ## class variable\n",
    "\n",
    "     \n",
    "\n",
    "      def myName(self):\n",
    "\n",
    "          return self.fname+\" \"+self.lname\n",
    "\n",
    "         # the self key word refer to the class variable, if you omit the “self”, the code will look for global variable.\n",
    "\n",
    "         \n",
    "\n",
    "pat = Person()       # creating pat object from Person class\n",
    "\n",
    "pat.fname=\"Patrick\"  # setting fname for pat object\n",
    "\n",
    "pat.lname=\"Mansour\"  # setting lname for pat object\n",
    "\n",
    "pat.role=\"Sales\"     # on the fly adding property\n",
    "\n",
    "Person.countPerson += 1   ## updating the class variable\n",
    "\n",
    " \n",
    "\n",
    "sam = Person()       # creating sam object from Person class\n",
    "\n",
    "sam.fname=\"Sammy\"    # setting fname for sam object\n",
    "\n",
    "sam.lname=\"Bond\"     # setting lname for sam object\n",
    "\n",
    "sam.role=\"Instructor\"\n",
    "\n",
    "Person.countPerson += 1   ## updating the class variable\n",
    "\n",
    " \n",
    "\n",
    "print(sam.fname,\"  \", sam.lname )   # print name for sam   \n",
    "\n",
    "print(pat.fname,\"  \", pat.lname )   # print name for pat\n",
    "\n",
    "print(\"---- Print name using myName method ----\")\n",
    "\n",
    "print(pat.myName(), pat.role )   # print name for pat using method myName\n",
    "\n",
    " \n",
    "\n",
    "print(sam.myName(), sam.role)   # print name for sam using method myName\n",
    "\n",
    "print(\"Number of objects for this class\", Person.countPerson)  "
   ]
  },
  {
   "cell_type": "code",
   "execution_count": 9,
   "id": "b629a460",
   "metadata": {},
   "outputs": [
    {
     "name": "stdout",
     "output_type": "stream",
     "text": [
      "Sammy    Bond\n",
      "Patrick    Mansour\n",
      "---- Print name using myName method ----\n",
      "Patrick Mansour Sales\n",
      "Sammy Bond Instructor\n",
      "Number of objects for this class 2\n"
     ]
    }
   ],
   "source": [
    "# Simple class person with\n",
    "\n",
    "# fname and lname\n",
    "\n",
    "# using constructor\n",
    "\n",
    " \n",
    "\n",
    "class Person:\n",
    "\n",
    "      countPerson=0\n",
    "\n",
    "     \n",
    "\n",
    "      def __init__(self, fname, lname):\n",
    "\n",
    "          self.fname = fname\n",
    "\n",
    "          self.lname = lname\n",
    "\n",
    "          Person.countPerson += 1\n",
    "\n",
    "     \n",
    "\n",
    "      def myName(self):\n",
    "\n",
    "          return self.fname+\" \"+self.lname \n",
    "\n",
    " \n",
    "\n",
    "# the self key word refer to the class variable, if you omit the “self”, the code will look for global variable.\n",
    "\n",
    "        \n",
    "\n",
    "pat = Person(\"Patrick\", \"Mansour\")          # creating pat object from Person class\n",
    "\n",
    "pat.role=\"Sales\"                            # on the fly adding property\n",
    "\n",
    " \n",
    "\n",
    "sam = Person(\"Sammy\", \"Bond\")               # creating sam object from Person class\n",
    "\n",
    "sam.role=\"Instructor\"\n",
    "\n",
    " \n",
    "\n",
    "print(sam.fname,\"  \", sam.lname )           # print name for sam   \n",
    "\n",
    "print(pat.fname,\"  \", pat.lname )           # print name for pat\n",
    "\n",
    " \n",
    "\n",
    "print(\"---- Print name using myName method ----\")\n",
    "\n",
    " \n",
    "\n",
    "print(pat.myName(), pat.role )              # print name for pat using method myName\n",
    "\n",
    "print(sam.myName(), sam.role)               # print name for sam using method myName\n",
    "\n",
    "print(\"Number of objects for this class\", Person.countPerson)  "
   ]
  },
  {
   "cell_type": "code",
   "execution_count": 10,
   "id": "7e338bde",
   "metadata": {},
   "outputs": [
    {
     "name": "stdout",
     "output_type": "stream",
     "text": [
      "Sammy    Abaza IT courses\n",
      "Sammy    Bond\n",
      "Patrick    Mansour\n",
      "---- Print name using myName method ----\n",
      "Patrick Mansour Sales\n",
      "Sammy Bond Instructor\n",
      "Number of objects for this class 3\n"
     ]
    }
   ],
   "source": [
    "# Simple class person with\n",
    "\n",
    "# fname and lname\n",
    "\n",
    "# using constructor and inheritance \n",
    "\n",
    "class Person:  ## base class\n",
    "\n",
    "      countPerson=0\n",
    "\n",
    "     \n",
    "\n",
    "      def __init__(self, fname, lname):\n",
    "\n",
    "          self.fname = fname\n",
    "\n",
    "          self.lname = lname\n",
    "\n",
    "          Person.countPerson += 1\n",
    "\n",
    "     \n",
    "\n",
    "      def myName(self):\n",
    "\n",
    "          return self.fname+\" \"+self.lname \n",
    "\n",
    "# the self key word refer to the class variable, if you omit the “self”, the code will look for global variable.\n",
    "\n",
    "\n",
    "class Instructor(Person):  ## inheritance\n",
    "\n",
    "      def courseName(self, courseName):\n",
    "\n",
    "            self.courseName = courseName\n",
    "\n",
    "      \n",
    "\n",
    "sam2 = Instructor(\"Sammy\", \"Abaza\")\n",
    "\n",
    "sam2.courseName(\"IT courses\")   # using the new method\n",
    "\n",
    " \n",
    "\n",
    "# print name for sam from the base class\n",
    "\n",
    "print(sam2.fname,\"  \", sam2.lname, sam2.courseName )          \n",
    "\n",
    " \n",
    "\n",
    "# creating pat object from Person class     \n",
    "\n",
    "pat = Person(\"Patrick\", \"Mansour\")         \n",
    "\n",
    " \n",
    "\n",
    "# on the fly adding property\n",
    "\n",
    "pat.role=\"Sales\"\n",
    "\n",
    " \n",
    "\n",
    "sam = Person(\"Sammy\", \"Bond\")               # creating sam object from Person class\n",
    "\n",
    "sam.role=\"Instructor\"\n",
    "\n",
    " \n",
    "\n",
    " \n",
    "\n",
    "print(sam.fname,\"  \", sam.lname )           # print name for sam   \n",
    "\n",
    "print(pat.fname,\"  \", pat.lname )           # print name for pat\n",
    "\n",
    " \n",
    "\n",
    "print(\"---- Print name using myName method ----\")\n",
    "\n",
    " \n",
    "\n",
    "print(pat.myName(), pat.role )              # print name for pat using method myName\n",
    "\n",
    " \n",
    "\n",
    "print(sam.myName(), sam.role)               # print name for sam using method myName\n",
    "\n",
    "print(\"Number of objects for this class\", Person.countPerson)  "
   ]
  },
  {
   "cell_type": "code",
   "execution_count": 11,
   "id": "441699dc",
   "metadata": {},
   "outputs": [
    {
     "name": "stdout",
     "output_type": "stream",
     "text": [
      "The number in stock for myCase is:  0\n",
      "\n",
      "Executed this line: myCase.numberInStock = 5\n",
      "The number in stock for myCase is:  5\n",
      "myCase has a type of:  <class '__main__.phonecase'>\n"
     ]
    }
   ],
   "source": [
    "class phonecase:\n",
    "    numberInStock = 0  # numberInStock is a class variable\n",
    "\n",
    "#main program (no longer in the class definition)\n",
    "myCase = phonecase()\n",
    "print (\"The number in stock for myCase is: \",myCase.numberInStock)\n",
    "print()\n",
    "\n",
    "myCase.numberInStock = 5\n",
    "print(\"Executed this line: myCase.numberInStock = 5\")\n",
    "print (\"The number in stock for myCase is: \",myCase.numberInStock)  \n",
    "print(\"myCase has a type of: \" , type(myCase)) "
   ]
  },
  {
   "cell_type": "code",
   "execution_count": 12,
   "id": "d64164e6",
   "metadata": {},
   "outputs": [
    {
     "data": {
      "text/plain": [
       "[3, 5, 7, 10, 20]"
      ]
     },
     "execution_count": 12,
     "metadata": {},
     "output_type": "execute_result"
    }
   ],
   "source": [
    "listA = [3,5,7]\n",
    "listB = [10,20]\n",
    "listA + listB"
   ]
  },
  {
   "cell_type": "code",
   "execution_count": 13,
   "id": "7576ddfe",
   "metadata": {},
   "outputs": [
    {
     "data": {
      "text/plain": [
       "str"
      ]
     },
     "execution_count": 13,
     "metadata": {},
     "output_type": "execute_result"
    }
   ],
   "source": [
    "name = 'rajaram'\n",
    "type(name)"
   ]
  },
  {
   "cell_type": "code",
   "execution_count": 14,
   "id": "33137328",
   "metadata": {},
   "outputs": [
    {
     "data": {
      "text/plain": [
       "str"
      ]
     },
     "execution_count": 14,
     "metadata": {},
     "output_type": "execute_result"
    }
   ],
   "source": [
    "type('rajaram')"
   ]
  },
  {
   "cell_type": "code",
   "execution_count": 15,
   "id": "933a951e",
   "metadata": {},
   "outputs": [
    {
     "name": "stdout",
     "output_type": "stream",
     "text": [
      "<class 'str'>\n"
     ]
    }
   ],
   "source": [
    "print(type(name))"
   ]
  },
  {
   "cell_type": "code",
   "execution_count": 16,
   "id": "0ef3ecda",
   "metadata": {},
   "outputs": [
    {
     "name": "stdout",
     "output_type": "stream",
     "text": [
      "<class 'str'>\n"
     ]
    }
   ],
   "source": [
    "print(type('rajaram'))"
   ]
  },
  {
   "cell_type": "code",
   "execution_count": 17,
   "id": "bed1e908",
   "metadata": {},
   "outputs": [
    {
     "name": "stdout",
     "output_type": "stream",
     "text": [
      "5 + 2 = 7\n",
      "5 - 2 = 3\n",
      "5 * 2 = 10\n",
      "5 / 2 = 2.5\n"
     ]
    }
   ],
   "source": [
    "# Instructions\n",
    "# This is the flower box and it should at the beginning of each assignment\n",
    "\n",
    "# You must add comments to your code\n",
    "# Program name : Wk6_Rajaram_Gautam.py\n",
    "# Student Name : Rajaram Gautam\n",
    "# Course : ENTD220\n",
    "# Instructor : Allen Jordan\n",
    "# Date : 12/09/2021\n",
    "# Copy Wrong : This is my work\n",
    "# You are going to enhance the prior assignment by doing the following\n",
    "# 1) Use list to create a menu\n",
    "menu = ['add', 'sub', 'mult', 'div']\n",
    "# 2) Create a function the will return the results of the four operations in a dictionary allInOne(n1,n2)\n",
    "# Sample output\n",
    "# 1) Add two numbers\n",
    "def add(n1, n2):\n",
    "    add_result = n1+n2\n",
    "    return add_result\n",
    "\n",
    "# 2) Mult two number\n",
    "def mult (n1, n2):\n",
    "    mult_result = n1 * n2\n",
    "    return mult_result\n",
    "\n",
    "# 3) Divide\n",
    "def div(n1, n2):\n",
    "    Result = 'Cannot Divide by Zero'\n",
    "    if n2 == 0:\n",
    "        return Result\n",
    "    else:\n",
    "        return n1/n2\n",
    "\n",
    "# 4) Scalc\n",
    "def sub(n1, n2):\n",
    "    sub_result = n1 -n2\n",
    "\n",
    "    return sub_result\n",
    "\n",
    "# 5) all in one ..\n",
    "def allinone(n1, n2):\n",
    "    result = {\"add\":add(n1, n2), \"sub\":sub(n1, n2), \"mult\":mult (n1, n2), \"div\":div(n1, n2)}\n",
    "    return result\n",
    "    \n",
    "# 6) …\n",
    "\n",
    "res = allinone(5,2)\n",
    "\n",
    "res\n",
    "\n",
    "\n",
    "# res=allInOne(5,2)\n",
    "\n",
    "# The results will be return in this format;\n",
    "\n",
    "# res is dictionary {\"add\":7, \"sub\":3, \"mult\":10, \"div\":2.5}\n",
    "\n",
    "\n",
    "\n",
    "# from res, you are going to print\n",
    "\n",
    "print(f\"5 + 2 = {res['add']}\")\n",
    "print(f\"5 - 2 = {res['sub']}\")\n",
    "print(f\"5 * 2 = {res['mult']}\")\n",
    "print(f\"5 / 2 = {res['div']}\")\n",
    "\n",
    "\n",
    "# 5 + 2 = 7\n",
    "\n",
    "# 5 - 2 = 3\n",
    "\n",
    "# 5 * 2 = 10\n",
    "\n",
    "# 5 / 2 = 2.5\n",
    "\n",
    "# Submission Instructions:\n",
    "# Make sure that you save your code in a text file in this format;\n",
    "\n",
    "# W6_firstname_lastname.py"
   ]
  },
  {
   "cell_type": "code",
   "execution_count": 18,
   "id": "b7b76761",
   "metadata": {},
   "outputs": [
    {
     "data": {
      "text/plain": [
       "{'add': 7, 'sub': 3, 'mult': 10, 'div': 2.5}"
      ]
     },
     "execution_count": 18,
     "metadata": {},
     "output_type": "execute_result"
    }
   ],
   "source": [
    "res"
   ]
  },
  {
   "cell_type": "code",
   "execution_count": null,
   "id": "d58ab3ca",
   "metadata": {},
   "outputs": [],
   "source": []
  }
 ],
 "metadata": {
  "kernelspec": {
   "display_name": "Python 3 (ipykernel)",
   "language": "python",
   "name": "python3"
  },
  "language_info": {
   "codemirror_mode": {
    "name": "ipython",
    "version": 3
   },
   "file_extension": ".py",
   "mimetype": "text/x-python",
   "name": "python",
   "nbconvert_exporter": "python",
   "pygments_lexer": "ipython3",
   "version": "3.8.8"
  }
 },
 "nbformat": 4,
 "nbformat_minor": 5
}
