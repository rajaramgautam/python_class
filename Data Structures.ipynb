{
 "cells": [
  {
   "cell_type": "code",
   "execution_count": 1,
   "id": "87d627f1",
   "metadata": {},
   "outputs": [
    {
     "name": "stdout",
     "output_type": "stream",
     "text": [
      "[1, 2, 3]\n"
     ]
    }
   ],
   "source": [
    "myList = [1, 2, 3]\n",
    "print(myList)"
   ]
  },
  {
   "cell_type": "code",
   "execution_count": 83,
   "id": "339f311c",
   "metadata": {},
   "outputs": [],
   "source": [
    "myList = ['apple', ' grapes', 'spinach', ' pepper', 'toothpaste', 'cauliflower', 'apple']\n",
    "myList.append('Orange')"
   ]
  },
  {
   "cell_type": "code",
   "execution_count": 84,
   "id": "456f5556",
   "metadata": {},
   "outputs": [
    {
     "data": {
      "text/plain": [
       "['apple',\n",
       " ' grapes',\n",
       " 'spinach',\n",
       " ' pepper',\n",
       " 'toothpaste',\n",
       " 'cauliflower',\n",
       " 'apple',\n",
       " 'Orange']"
      ]
     },
     "execution_count": 84,
     "metadata": {},
     "output_type": "execute_result"
    }
   ],
   "source": [
    "myList"
   ]
  },
  {
   "cell_type": "code",
   "execution_count": 82,
   "id": "5875c83a",
   "metadata": {},
   "outputs": [
    {
     "data": {
      "text/plain": [
       "'apple'"
      ]
     },
     "execution_count": 82,
     "metadata": {},
     "output_type": "execute_result"
    }
   ],
   "source": [
    "myList[0]"
   ]
  },
  {
   "cell_type": "code",
   "execution_count": 85,
   "id": "1c4e0e36",
   "metadata": {},
   "outputs": [],
   "source": [
    "myId = ('Rajaram Gautam', '01/01/1985', 123456789)"
   ]
  },
  {
   "cell_type": "code",
   "execution_count": 86,
   "id": "b840a1fb",
   "metadata": {},
   "outputs": [
    {
     "data": {
      "text/plain": [
       "('Rajaram Gautam', '01/01/1985', 123456789)"
      ]
     },
     "execution_count": 86,
     "metadata": {},
     "output_type": "execute_result"
    }
   ],
   "source": [
    "myId"
   ]
  },
  {
   "cell_type": "code",
   "execution_count": 2,
   "id": "934eaeea",
   "metadata": {},
   "outputs": [
    {
     "name": "stdout",
     "output_type": "stream",
     "text": [
      "1\n",
      "2\n",
      "3\n"
     ]
    }
   ],
   "source": [
    "for i in myList:\n",
    "    print (i)"
   ]
  },
  {
   "cell_type": "code",
   "execution_count": 3,
   "id": "64fd5393",
   "metadata": {},
   "outputs": [],
   "source": [
    "myList = []\n",
    "\n",
    "myList.append(1)\n",
    "\n",
    "myList.append(2)\n",
    "\n",
    "myList.append(2)"
   ]
  },
  {
   "cell_type": "code",
   "execution_count": 4,
   "id": "b325d891",
   "metadata": {},
   "outputs": [
    {
     "name": "stdout",
     "output_type": "stream",
     "text": [
      "[1, 2, 2]\n"
     ]
    }
   ],
   "source": [
    "print(myList)"
   ]
  },
  {
   "cell_type": "code",
   "execution_count": 5,
   "id": "eb658de0",
   "metadata": {},
   "outputs": [
    {
     "name": "stdout",
     "output_type": "stream",
     "text": [
      "1\n"
     ]
    }
   ],
   "source": [
    "print(myList.index(2))"
   ]
  },
  {
   "cell_type": "code",
   "execution_count": 6,
   "id": "3f1fba33",
   "metadata": {},
   "outputs": [
    {
     "data": {
      "text/plain": [
       "1"
      ]
     },
     "execution_count": 6,
     "metadata": {},
     "output_type": "execute_result"
    }
   ],
   "source": [
    "myList[0]"
   ]
  },
  {
   "cell_type": "code",
   "execution_count": 7,
   "id": "17c2ebe6",
   "metadata": {},
   "outputs": [
    {
     "name": "stdout",
     "output_type": "stream",
     "text": [
      "[1, 2]\n"
     ]
    }
   ],
   "source": [
    "myList.remove(2)\n",
    "\n",
    "print(myList) ## this will print [1,2]"
   ]
  },
  {
   "cell_type": "markdown",
   "id": "ec895671",
   "metadata": {},
   "source": [
    "# Tuples"
   ]
  },
  {
   "cell_type": "code",
   "execution_count": 8,
   "id": "059d0a47",
   "metadata": {},
   "outputs": [
    {
     "name": "stdout",
     "output_type": "stream",
     "text": [
      "0\n",
      "6\n",
      "1\n"
     ]
    }
   ],
   "source": [
    " t1=(1,2,2,2,2,1,3)\n",
    "\n",
    "print(t1.index(1)) ### 0\n",
    "print(t1.index(3)) ### 6\n",
    "print(t1.index(2))"
   ]
  },
  {
   "cell_type": "code",
   "execution_count": 10,
   "id": "33786f3f",
   "metadata": {},
   "outputs": [
    {
     "name": "stdout",
     "output_type": "stream",
     "text": [
      "2\n",
      "4\n",
      "1\n"
     ]
    }
   ],
   "source": [
    "#Count()\n",
    "\n",
    "#To count the number of occurrence of a value;\n",
    "\n",
    "t1=(1,2,2,2,2,1,3)\n",
    "\n",
    "print(t1.count(1))    # 2\n",
    "\n",
    "print(t1.count(2))    # 4\n",
    "\n",
    "print(t1.count(3))    # 1"
   ]
  },
  {
   "cell_type": "code",
   "execution_count": 11,
   "id": "fdbee551",
   "metadata": {},
   "outputs": [
    {
     "name": "stdout",
     "output_type": "stream",
     "text": [
      "(1, 2, 2, 'ins', 2, 2, 1, 3)\n"
     ]
    }
   ],
   "source": [
    "# To insert data into Tuple, simply covert it to List, insert data, then convert back to Tuple.\n",
    "\n",
    "t1=(1,2,2,2,2,1,3)\n",
    "\n",
    "l1 = list(t1)\n",
    "\n",
    "l1.insert(3, 'ins')\n",
    "\n",
    "t1 = tuple(l1)\n",
    "\n",
    "print (t1)\n",
    "\n"
   ]
  },
  {
   "cell_type": "code",
   "execution_count": 28,
   "id": "4d0f522a",
   "metadata": {},
   "outputs": [
    {
     "name": "stdout",
     "output_type": "stream",
     "text": [
      "<class 'tuple'>\n"
     ]
    }
   ],
   "source": [
    "print(type(t1))"
   ]
  },
  {
   "cell_type": "code",
   "execution_count": null,
   "id": "13818821",
   "metadata": {},
   "outputs": [],
   "source": [
    "Dictionary\n",
    "\n",
    "Python Dictionary\n",
    "\n",
    "A dictionary is a sequence of items. Each item is a pair made of a key and a value. You can access the list by keys or values independently. Note dictionaries items are not sorted.\n",
    "\n",
    "Here is the syntax of the dictionary;\n",
    "\n",
    "d = {'key':'value'}\n",
    "\n",
    "Here is an example\n",
    "\n",
    "d = {'key':'value'}\n",
    "\n",
    "print(d.keys())\n",
    "\n",
    "print(d.values())\n",
    "\n",
    "d = {'firstNum':5, 'secondNum':2}\n",
    "\n",
    "print(d.keys())\n",
    "\n",
    "print(d.values())\n",
    "\n",
    "Total = d['firstNum'] + d['secondNum']\n",
    "\n",
    "print('Total = ', Total)\n",
    "\n",
    " \n",
    "\n",
    "Getting values from the dictionary object. You can use the get  method to obtain the value of a dictionary key; here is how\n",
    "\n",
    "Total = d.get('firstNum') + d.get('secondNum')\n",
    "\n",
    "print('Total = ', Total)\n",
    "\n",
    " \n",
    "\n",
    "Adding an item to an existing dictionary;\n",
    "\n",
    "To add item to the dictionary use update; here is how, \n",
    "\n",
    "d.update({'item3': 3})\n",
    "\n",
    "If the item is not in the key dictionary, then it will be added. If not, it will be updated.\n",
    "\n",
    "To delete an item in the dictionary use \"pop\"; here is how,\n",
    "\n",
    "d.pop('tem3')\n",
    "\n",
    "Note, you cannot have duplicate keys in a dictionary object; also the data are not sorted.\n",
    "\n",
    " \n",
    "\n",
    "Converting dictionary object to List object\n",
    "\n",
    "you can convert the dictionary to a list for more control access\n",
    "\n",
    "v=list(d.values())\n",
    "\n",
    "k=list(d.keys())\n",
    "\n",
    "print(v[0])\n",
    "\n",
    "print(k[0])\n",
    "\n",
    " \n",
    "\n",
    "Sorting, since list is an easy object to sort, you can convert tuple to list, then sort the list; here is how\n",
    "\n",
    "t1=(1,2,2,2,2,1,3)  ## creating tuple\n",
    "\n",
    "l1 = list(t1)   ## convert to list\n",
    "\n",
    "print(l1) ## print the list\n",
    "\n",
    " \n",
    "\n",
    "l1.sort() ## sorting\n",
    "\n",
    "print (\">>> \", l1)\n",
    "\n",
    " \n",
    "\n",
    "The above code it the correct way to sort a list. The sort does not return any value, see below:-\n",
    "\n",
    "t1=(1,2,2,2,2,1,3)\n",
    "\n",
    "l1 = list(t1)\n",
    "\n",
    "print(l1)\n",
    "\n",
    " \n",
    "\n",
    "sl=l1.sort()\n",
    "\n",
    "print (\">>> \", sl)\n",
    "\n",
    "The first set of code will print a sorted list, the second set of code will return nothing."
   ]
  },
  {
   "cell_type": "code",
   "execution_count": 12,
   "id": "e981c0c3",
   "metadata": {},
   "outputs": [
    {
     "name": "stdout",
     "output_type": "stream",
     "text": [
      "dict_keys(['key'])\n",
      "dict_values(['value'])\n"
     ]
    }
   ],
   "source": [
    "d = {'key':'value'}\n",
    "\n",
    "print(d.keys())\n",
    "\n",
    "print(d.values())"
   ]
  },
  {
   "cell_type": "code",
   "execution_count": 13,
   "id": "86df74b4",
   "metadata": {},
   "outputs": [
    {
     "name": "stdout",
     "output_type": "stream",
     "text": [
      "dict_keys(['firstNum', 'secondNum'])\n",
      "dict_values([5, 2])\n"
     ]
    }
   ],
   "source": [
    "d = {'firstNum':5, 'secondNum':2}\n",
    "\n",
    "print(d.keys())\n",
    "\n",
    "print(d.values())"
   ]
  },
  {
   "cell_type": "code",
   "execution_count": 29,
   "id": "10ab2580",
   "metadata": {},
   "outputs": [
    {
     "name": "stdout",
     "output_type": "stream",
     "text": [
      "<class 'dict'>\n"
     ]
    }
   ],
   "source": [
    "print(type(d))"
   ]
  },
  {
   "cell_type": "code",
   "execution_count": 14,
   "id": "e78c2d48",
   "metadata": {},
   "outputs": [
    {
     "name": "stdout",
     "output_type": "stream",
     "text": [
      "Total =  7\n"
     ]
    }
   ],
   "source": [
    "Total = d['firstNum'] + d['secondNum']\n",
    "\n",
    "print('Total = ', Total)"
   ]
  },
  {
   "cell_type": "code",
   "execution_count": 15,
   "id": "982829e9",
   "metadata": {},
   "outputs": [
    {
     "name": "stdout",
     "output_type": "stream",
     "text": [
      "Total =  7\n"
     ]
    }
   ],
   "source": [
    "Total = d.get('firstNum') + d.get('secondNum')\n",
    "\n",
    "print('Total = ', Total)"
   ]
  },
  {
   "cell_type": "code",
   "execution_count": 16,
   "id": "f7550781",
   "metadata": {},
   "outputs": [
    {
     "name": "stdout",
     "output_type": "stream",
     "text": [
      "5\n",
      "firstNum\n"
     ]
    }
   ],
   "source": [
    "v=list(d.values())\n",
    "\n",
    "k=list(d.keys())\n",
    "\n",
    "print(v[0])\n",
    "\n",
    "print(k[0])"
   ]
  },
  {
   "cell_type": "code",
   "execution_count": 17,
   "id": "eeafc158",
   "metadata": {},
   "outputs": [
    {
     "name": "stdout",
     "output_type": "stream",
     "text": [
      "2\n",
      "secondNum\n"
     ]
    }
   ],
   "source": [
    "print(v[1])\n",
    "\n",
    "print(k[1])"
   ]
  },
  {
   "cell_type": "code",
   "execution_count": 18,
   "id": "fe3f0cc9",
   "metadata": {},
   "outputs": [
    {
     "name": "stdout",
     "output_type": "stream",
     "text": [
      "[1, 2, 2, 2, 2, 1, 3]\n"
     ]
    }
   ],
   "source": [
    "t1=(1,2,2,2,2,1,3)\n",
    "\n",
    "l1 = list(t1)\n",
    "\n",
    "print(l1)\n",
    "\n"
   ]
  },
  {
   "cell_type": "code",
   "execution_count": 19,
   "id": "f722af16",
   "metadata": {},
   "outputs": [],
   "source": [
    "sl=l1.sort()"
   ]
  },
  {
   "cell_type": "code",
   "execution_count": 21,
   "id": "2468b2b8",
   "metadata": {},
   "outputs": [
    {
     "name": "stdout",
     "output_type": "stream",
     "text": [
      "None\n"
     ]
    }
   ],
   "source": [
    "print(sl)"
   ]
  },
  {
   "cell_type": "code",
   "execution_count": 23,
   "id": "1f9cc9bf",
   "metadata": {},
   "outputs": [
    {
     "name": "stdout",
     "output_type": "stream",
     "text": [
      "hi <class 'str'>\n",
      "3 <class 'int'>\n",
      "2.5 <class 'float'>\n",
      "True <class 'bool'>\n"
     ]
    }
   ],
   "source": [
    "for whatever in ['hi', 3, 2.5, True]:\n",
    "    print(whatever, type(whatever))"
   ]
  },
  {
   "cell_type": "code",
   "execution_count": 25,
   "id": "070a2fe6",
   "metadata": {},
   "outputs": [
    {
     "name": "stdout",
     "output_type": "stream",
     "text": [
      "hi <class 'str'>\n",
      "3 <class 'int'>\n",
      "2.5 <class 'float'>\n",
      "True <class 'bool'>\n"
     ]
    }
   ],
   "source": [
    "myList = ['hi', 3, 2.5, True] \n",
    "for whatever in myList:\n",
    "    print(whatever, type(whatever))"
   ]
  },
  {
   "cell_type": "code",
   "execution_count": 27,
   "id": "1a9eb56b",
   "metadata": {},
   "outputs": [
    {
     "name": "stdout",
     "output_type": "stream",
     "text": [
      "<class 'list'>\n"
     ]
    }
   ],
   "source": [
    "print(type(myList))"
   ]
  },
  {
   "cell_type": "code",
   "execution_count": 30,
   "id": "cd68af19",
   "metadata": {},
   "outputs": [
    {
     "name": "stdout",
     "output_type": "stream",
     "text": [
      "__add__\n",
      "__class__\n",
      "__contains__\n",
      "__delattr__\n",
      "__delitem__\n",
      "__dir__\n",
      "__doc__\n",
      "__eq__\n",
      "__format__\n",
      "__ge__\n",
      "__getattribute__\n",
      "__getitem__\n",
      "__gt__\n",
      "__hash__\n",
      "__iadd__\n",
      "__imul__\n",
      "__init__\n",
      "__init_subclass__\n",
      "__iter__\n",
      "__le__\n",
      "__len__\n",
      "__lt__\n",
      "__mul__\n",
      "__ne__\n",
      "__new__\n",
      "__reduce__\n",
      "__reduce_ex__\n",
      "__repr__\n",
      "__reversed__\n",
      "__rmul__\n",
      "__setattr__\n",
      "__setitem__\n",
      "__sizeof__\n",
      "__str__\n",
      "__subclasshook__\n",
      "append\n",
      "clear\n",
      "copy\n",
      "count\n",
      "extend\n",
      "index\n",
      "insert\n",
      "pop\n",
      "remove\n",
      "reverse\n",
      "sort\n"
     ]
    }
   ],
   "source": [
    "for n in dir(list):\n",
    "    print (n)"
   ]
  },
  {
   "cell_type": "code",
   "execution_count": 31,
   "id": "333bad55",
   "metadata": {},
   "outputs": [
    {
     "name": "stdout",
     "output_type": "stream",
     "text": [
      "Bob\n",
      "Monique\n",
      "Sam\n",
      "Selena\n",
      "Bob\n"
     ]
    }
   ],
   "source": [
    "listD = ['Bob', 'Monique', 'Sam', 'Selena', 'Bob']\n",
    "for n in listD:\n",
    "    print(n)"
   ]
  },
  {
   "cell_type": "code",
   "execution_count": 32,
   "id": "50e305ab",
   "metadata": {},
   "outputs": [],
   "source": [
    "listD.sort()"
   ]
  },
  {
   "cell_type": "code",
   "execution_count": 33,
   "id": "37d6fc56",
   "metadata": {},
   "outputs": [
    {
     "name": "stdout",
     "output_type": "stream",
     "text": [
      "Bob\n",
      "Bob\n",
      "Monique\n",
      "Sam\n",
      "Selena\n"
     ]
    }
   ],
   "source": [
    "for n in listD:\n",
    "    print(n)"
   ]
  },
  {
   "cell_type": "code",
   "execution_count": 34,
   "id": "2fbc288e",
   "metadata": {},
   "outputs": [],
   "source": [
    "tupleA=(1,2,3)\n",
    "tupleB = (5,9)"
   ]
  },
  {
   "cell_type": "code",
   "execution_count": 38,
   "id": "0c36419c",
   "metadata": {},
   "outputs": [
    {
     "data": {
      "text/plain": [
       "(1, 2, 3, 5, 9)"
      ]
     },
     "execution_count": 38,
     "metadata": {},
     "output_type": "execute_result"
    }
   ],
   "source": [
    "tupleA = tupleA.__add__(tupleB)\n",
    "tupleA"
   ]
  },
  {
   "cell_type": "code",
   "execution_count": 54,
   "id": "8e8a0401",
   "metadata": {},
   "outputs": [
    {
     "data": {
      "text/plain": [
       "4"
      ]
     },
     "execution_count": 54,
     "metadata": {},
     "output_type": "execute_result"
    }
   ],
   "source": [
    "tupleC = (2, 7, 3, 7, 10, 7, 7)\n",
    "tupleC.index(10)"
   ]
  },
  {
   "cell_type": "code",
   "execution_count": 55,
   "id": "58b7f799",
   "metadata": {},
   "outputs": [
    {
     "data": {
      "text/plain": [
       "10"
      ]
     },
     "execution_count": 55,
     "metadata": {},
     "output_type": "execute_result"
    }
   ],
   "source": [
    "tupleC[4]"
   ]
  },
  {
   "cell_type": "code",
   "execution_count": 56,
   "id": "a568401c",
   "metadata": {},
   "outputs": [
    {
     "data": {
      "text/plain": [
       "3"
      ]
     },
     "execution_count": 56,
     "metadata": {},
     "output_type": "execute_result"
    }
   ],
   "source": [
    "tupleC.index(7,2)"
   ]
  },
  {
   "cell_type": "code",
   "execution_count": 57,
   "id": "733f59bd",
   "metadata": {},
   "outputs": [
    {
     "data": {
      "text/plain": [
       "4"
      ]
     },
     "execution_count": 57,
     "metadata": {},
     "output_type": "execute_result"
    }
   ],
   "source": [
    "tupleC.count(7)"
   ]
  },
  {
   "cell_type": "code",
   "execution_count": 58,
   "id": "5cf875fd",
   "metadata": {},
   "outputs": [
    {
     "data": {
      "text/plain": [
       "dict"
      ]
     },
     "execution_count": 58,
     "metadata": {},
     "output_type": "execute_result"
    }
   ],
   "source": [
    "myDict = {'Sam': 67}\n",
    "type(myDict)"
   ]
  },
  {
   "cell_type": "code",
   "execution_count": 62,
   "id": "ef761a5d",
   "metadata": {},
   "outputs": [
    {
     "name": "stdout",
     "output_type": "stream",
     "text": [
      "Sam\n"
     ]
    }
   ],
   "source": [
    "for item in myDict:\n",
    "    print(item)"
   ]
  },
  {
   "cell_type": "code",
   "execution_count": 63,
   "id": "0fdc54fa",
   "metadata": {},
   "outputs": [
    {
     "name": "stdout",
     "output_type": "stream",
     "text": [
      "{'Sam': 67}\n"
     ]
    }
   ],
   "source": [
    "print(myDict)"
   ]
  },
  {
   "cell_type": "code",
   "execution_count": 87,
   "id": "a258fd3c",
   "metadata": {},
   "outputs": [
    {
     "data": {
      "text/plain": [
       "dict_keys(['Sam', 'Jenny', 'Manuelo', 'Hannah', 'Ram'])"
      ]
     },
     "execution_count": 87,
     "metadata": {},
     "output_type": "execute_result"
    }
   ],
   "source": [
    "myDict = {'Sam':67, 'Jenny':62, 'Manuelo':72, 'Hannah':59, 'Ram': 67}\n",
    "myDict.keys()"
   ]
  },
  {
   "cell_type": "code",
   "execution_count": 91,
   "id": "a03f283a",
   "metadata": {},
   "outputs": [
    {
     "data": {
      "text/plain": [
       "{'Sam': 67, 'Jenny': 62, 'Manuelo': 72, 'Hannah': 59, 'Ram': 67}"
      ]
     },
     "execution_count": 91,
     "metadata": {},
     "output_type": "execute_result"
    }
   ],
   "source": [
    "myDict"
   ]
  },
  {
   "cell_type": "code",
   "execution_count": 88,
   "id": "3832279d",
   "metadata": {},
   "outputs": [
    {
     "data": {
      "text/plain": [
       "dict_values([67, 62, 72, 59, 67])"
      ]
     },
     "execution_count": 88,
     "metadata": {},
     "output_type": "execute_result"
    }
   ],
   "source": [
    "myDict.values()"
   ]
  },
  {
   "cell_type": "code",
   "execution_count": 66,
   "id": "0493a820",
   "metadata": {},
   "outputs": [
    {
     "name": "stdout",
     "output_type": "stream",
     "text": [
      "Sam 67\n",
      "Jenny 62\n",
      "Manuelo 72\n",
      "Hannah 59\n"
     ]
    }
   ],
   "source": [
    "for item in myDict.keys():\n",
    "    print(item , myDict[item])"
   ]
  },
  {
   "cell_type": "code",
   "execution_count": 67,
   "id": "b613dca7",
   "metadata": {},
   "outputs": [],
   "source": [
    "myDict.update({'Sue':65})"
   ]
  },
  {
   "cell_type": "code",
   "execution_count": 68,
   "id": "4dfc7c55",
   "metadata": {},
   "outputs": [
    {
     "data": {
      "text/plain": [
       "{'Sam': 67, 'Jenny': 62, 'Manuelo': 72, 'Hannah': 59, 'Sue': 65}"
      ]
     },
     "execution_count": 68,
     "metadata": {},
     "output_type": "execute_result"
    }
   ],
   "source": [
    "myDict"
   ]
  },
  {
   "cell_type": "code",
   "execution_count": 72,
   "id": "8f315e53",
   "metadata": {},
   "outputs": [
    {
     "data": {
      "text/plain": [
       "65"
      ]
     },
     "execution_count": 72,
     "metadata": {},
     "output_type": "execute_result"
    }
   ],
   "source": [
    "myDict.pop('Sue')"
   ]
  },
  {
   "cell_type": "code",
   "execution_count": 73,
   "id": "d6a47f58",
   "metadata": {},
   "outputs": [
    {
     "data": {
      "text/plain": [
       "{'Sam': 67, 'Jenny': 62, 'Manuelo': 72, 'Hannah': 59}"
      ]
     },
     "execution_count": 73,
     "metadata": {},
     "output_type": "execute_result"
    }
   ],
   "source": [
    "myDict"
   ]
  },
  {
   "cell_type": "code",
   "execution_count": 74,
   "id": "0ae27d77",
   "metadata": {},
   "outputs": [],
   "source": [
    "myDict.update({'Jenny':63})"
   ]
  },
  {
   "cell_type": "code",
   "execution_count": 75,
   "id": "1010642f",
   "metadata": {},
   "outputs": [
    {
     "data": {
      "text/plain": [
       "{'Sam': 67, 'Jenny': 63, 'Manuelo': 72, 'Hannah': 59}"
      ]
     },
     "execution_count": 75,
     "metadata": {},
     "output_type": "execute_result"
    }
   ],
   "source": [
    "myDict"
   ]
  },
  {
   "cell_type": "code",
   "execution_count": 76,
   "id": "3719878f",
   "metadata": {},
   "outputs": [
    {
     "name": "stdout",
     "output_type": "stream",
     "text": [
      "The grades for each test as a list\n",
      "[30, 40, 34, 52]\n",
      "[61, 21, 70, 75]\n",
      "[79, 85, 100, 97]\n",
      "\n",
      "Now print one grade at a time.\n",
      "\n",
      "Test 0 Student 0 Grade 30\n",
      "Test 0 Student 1 Grade 40\n",
      "Test 0 Student 2 Grade 34\n",
      "Test 0 Student 3 Grade 52\n",
      "Test 1 Student 0 Grade 61\n",
      "Test 1 Student 1 Grade 21\n",
      "Test 1 Student 2 Grade 70\n",
      "Test 1 Student 3 Grade 75\n",
      "Test 2 Student 0 Grade 79\n",
      "Test 2 Student 1 Grade 85\n",
      "Test 2 Student 2 Grade 100\n",
      "Test 2 Student 3 Grade 97\n"
     ]
    }
   ],
   "source": [
    "test1 = [30, 40, 34, 52]\n",
    "test2 = [61, 21, 70,  75]\n",
    "final = [79, 85, 100, 97]\n",
    "gradebook = [test1, test2, final]\n",
    "print (\"The grades for each test as a list\")\n",
    "for testGrades in gradebook:\n",
    "    print (testGrades)\n",
    "print()\n",
    "print(\"Now print one grade at a time.\")\n",
    "print()\n",
    "for I in range(3): # There are 3 tests in the gradebook\n",
    "    for J in range(4): #There are four grades for each test\n",
    "        print(\"Test\", I, \"Student\", J, \"Grade\",gradebook[I][J])"
   ]
  },
  {
   "cell_type": "code",
   "execution_count": 89,
   "id": "50b1407b",
   "metadata": {},
   "outputs": [],
   "source": [
    "car_parts = {'wheel', 'engine', 'brake', 'steering', 'passenger seat', 'head light'}"
   ]
  },
  {
   "cell_type": "code",
   "execution_count": 90,
   "id": "480f395e",
   "metadata": {},
   "outputs": [
    {
     "data": {
      "text/plain": [
       "{'brake', 'engine', 'head light', 'passenger seat', 'steering', 'wheel'}"
      ]
     },
     "execution_count": 90,
     "metadata": {},
     "output_type": "execute_result"
    }
   ],
   "source": [
    "car_parts"
   ]
  },
  {
   "cell_type": "code",
   "execution_count": 4,
   "id": "cdc71f4e",
   "metadata": {},
   "outputs": [],
   "source": [
    "def add(n1, n2):\n",
    "    add_result = n1+n2\n",
    "    return add_result\n",
    "\n",
    "# 2) Mult two number\n",
    "def mult (n1, n2):\n",
    "    mult_result = n1 * n2\n",
    "    return mult_result\n",
    "\n",
    "# 3) Divide\n",
    "def div(n1, n2):\n",
    "    Result = 'Cannot Divide by Zero'\n",
    "    if n2 == 0:\n",
    "        return Result\n",
    "    else:\n",
    "        return n1/n2\n",
    "\n",
    "# 4) Scalc\n",
    "def sub(n1, n2):\n",
    "    sub_result = n1 -n2\n",
    "\n",
    "    return sub_result\n",
    "\n",
    "# 5) all in one ..\n",
    "def allinone(n1, n2):\n",
    "    result = {\"add\":add(n1, n2), \"sub\":sub(n1, n2), \"mult\":mult (n1, n2), \"div\":div(n1, n2)}\n",
    "    return result"
   ]
  },
  {
   "cell_type": "code",
   "execution_count": 5,
   "id": "a0f55fa7",
   "metadata": {},
   "outputs": [
    {
     "data": {
      "text/plain": [
       "{'add': 5, 'sub': 5, 'mult': 0, 'div': 'Cannot Divide by Zero'}"
      ]
     },
     "execution_count": 5,
     "metadata": {},
     "output_type": "execute_result"
    }
   ],
   "source": [
    "allinone(5,0)"
   ]
  },
  {
   "cell_type": "code",
   "execution_count": 6,
   "id": "2c435c94",
   "metadata": {},
   "outputs": [
    {
     "data": {
      "text/plain": [
       "{'add': 7, 'sub': 3, 'mult': 10, 'div': 2.5}"
      ]
     },
     "execution_count": 6,
     "metadata": {},
     "output_type": "execute_result"
    }
   ],
   "source": [
    "res= allinone(5,2)\n",
    "res"
   ]
  },
  {
   "cell_type": "code",
   "execution_count": 8,
   "id": "e9c270d5",
   "metadata": {},
   "outputs": [
    {
     "name": "stdout",
     "output_type": "stream",
     "text": [
      "5 + 2 = 7\n",
      "5 - 2 = 3\n",
      "5 * 2 = 10\n",
      "5 / 2 = 2.5\n"
     ]
    }
   ],
   "source": [
    "print(f\"5 + 2 = {res['add']}\")\n",
    "print(f\"5 - 2 = {res['sub']}\")\n",
    "print(f\"5 * 2 = {res['mult']}\")\n",
    "print(f\"5 / 2 = {res['div']}\")"
   ]
  },
  {
   "cell_type": "code",
   "execution_count": null,
   "id": "a9fcbaea",
   "metadata": {},
   "outputs": [],
   "source": []
  }
 ],
 "metadata": {
  "kernelspec": {
   "display_name": "Python 3 (ipykernel)",
   "language": "python",
   "name": "python3"
  },
  "language_info": {
   "codemirror_mode": {
    "name": "ipython",
    "version": 3
   },
   "file_extension": ".py",
   "mimetype": "text/x-python",
   "name": "python",
   "nbconvert_exporter": "python",
   "pygments_lexer": "ipython3",
   "version": "3.8.8"
  }
 },
 "nbformat": 4,
 "nbformat_minor": 5
}
