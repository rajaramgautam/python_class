{
 "cells": [
  {
   "cell_type": "code",
   "execution_count": 1,
   "id": "3eef9544",
   "metadata": {},
   "outputs": [
    {
     "name": "stdout",
     "output_type": "stream",
     "text": [
      "We are trying to build simple calculator.\n",
      "Please input first number between -100 to 100: 100\n",
      "Please input second number between -100 to 100: -100\n",
      "The sum of two numbers:  0.0\n",
      "The difference of two numbers:  200.0\n",
      "The product of two numbers:  -10000.0\n",
      "The division of first number by second number results:  -1.0\n",
      "Thanks for using our calculator!\n",
      "Enter your Lower range: 20\n",
      "Enter your Higher range: 20\n",
      "Enter your number: 0\n",
      "Please check the numbers and try again.\n",
      "Do you like to use again? n\n",
      "Thank you for using calculator.\n"
     ]
    }
   ],
   "source": [
    "import MyLib\n",
    "MyLib.big_function_new()"
   ]
  },
  {
   "cell_type": "code",
   "execution_count": null,
   "id": "142bb9bb",
   "metadata": {},
   "outputs": [],
   "source": [
    "MyLib.scalc(\"20,30,*\")"
   ]
  },
  {
   "cell_type": "code",
   "execution_count": null,
   "id": "14b66020",
   "metadata": {},
   "outputs": [],
   "source": [
    "MyLib.scalc(\"50,20,+\")"
   ]
  },
  {
   "cell_type": "code",
   "execution_count": null,
   "id": "c4f782d6",
   "metadata": {},
   "outputs": [],
   "source": [
    "MyLib.scalc(\"50,20,-\")"
   ]
  },
  {
   "cell_type": "code",
   "execution_count": null,
   "id": "5840aeb8",
   "metadata": {},
   "outputs": [],
   "source": [
    "MyLib.scalc(\"60,20,/\")"
   ]
  }
 ],
 "metadata": {
  "kernelspec": {
   "display_name": "Python 3 (ipykernel)",
   "language": "python",
   "name": "python3"
  },
  "language_info": {
   "codemirror_mode": {
    "name": "ipython",
    "version": 3
   },
   "file_extension": ".py",
   "mimetype": "text/x-python",
   "name": "python",
   "nbconvert_exporter": "python",
   "pygments_lexer": "ipython3",
   "version": "3.8.8"
  }
 },
 "nbformat": 4,
 "nbformat_minor": 5
}
