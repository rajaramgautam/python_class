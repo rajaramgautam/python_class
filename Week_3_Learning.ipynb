{
 "cells": [
  {
   "cell_type": "markdown",
   "id": "596137b5",
   "metadata": {},
   "source": [
    "# For Loop"
   ]
  },
  {
   "cell_type": "code",
   "execution_count": null,
   "id": "c67014d5",
   "metadata": {},
   "outputs": [],
   "source": [
    "for num in [0, 1, 2, 3]:\n",
    "    print(\"Are we there yet?\")"
   ]
  },
  {
   "cell_type": "code",
   "execution_count": null,
   "id": "6f993bdb",
   "metadata": {},
   "outputs": [],
   "source": [
    "for num in range(4):\n",
    "    print(\"Are we there yet?\")"
   ]
  },
  {
   "cell_type": "code",
   "execution_count": null,
   "id": "509b9e2b",
   "metadata": {},
   "outputs": [],
   "source": [
    "for num in [10, 16, -3, 14]:\n",
    "    print(\"Are we there yet?\")"
   ]
  },
  {
   "cell_type": "code",
   "execution_count": null,
   "id": "f19bc1e1",
   "metadata": {},
   "outputs": [],
   "source": [
    "for num in \"Bark\" :\n",
    "    print(\"Are we there yet?\")"
   ]
  },
  {
   "cell_type": "code",
   "execution_count": null,
   "id": "602b1dac",
   "metadata": {},
   "outputs": [],
   "source": [
    "for num in \"Bark\" :\n",
    "    print(num)"
   ]
  },
  {
   "cell_type": "code",
   "execution_count": null,
   "id": "e0effab7",
   "metadata": {},
   "outputs": [],
   "source": [
    "listA = [10, 14, 20, 33, 23]\n",
    "for num in listA:\n",
    "    print(num)"
   ]
  },
  {
   "cell_type": "code",
   "execution_count": null,
   "id": "35d2354d",
   "metadata": {},
   "outputs": [],
   "source": [
    "listB = [4, \"box\", 2.3]\n",
    "for num in listB :\n",
    "    print( num)\n",
    "    print(type(num))"
   ]
  },
  {
   "cell_type": "code",
   "execution_count": null,
   "id": "4a9be3ad",
   "metadata": {},
   "outputs": [],
   "source": [
    "# Ask the user how many values they have, store in countValues\n",
    "# Initialize the sum to zero\n",
    "# Write loop to ask for each value\n",
    "       #convert what the user entered into a floating point number\n",
    "       # add it to sum\n",
    "       # to be repeated countValues times\n",
    "# Calculated the average\n",
    "# Give the user the sum, number of values, and the average\n",
    "\n",
    "countValues = int(input('How many values do you have? '))\n",
    "print(type(countValues))\n",
    "sum1 = 0\n",
    "for num in range(countValues):\n",
    "    num = float(input('Please input your number? '))\n",
    "    sum1 = sum1 + num\n",
    "print(f'The total sum of your numbers: {sum1}')\n",
    "\n",
    "average = sum1/countValues\n",
    "\n",
    "print(f'The average of your numbers : {average}')\n",
    "print(f'The number of values entered by you: {countValues}')\n",
    "print(\"The average is \" , average)\n",
    "print (\"The average is \" + str(average))\n",
    "    "
   ]
  },
  {
   "cell_type": "markdown",
   "id": "37b384c5",
   "metadata": {},
   "source": [
    "print(\"The average is \" , average)"
   ]
  },
  {
   "cell_type": "code",
   "execution_count": null,
   "id": "0e0bd860",
   "metadata": {},
   "outputs": [],
   "source": [
    "for n in range(5):\n",
    "    newNum = input(\"Please enter a number between -10 and 10: \")\n",
    "    newNum = float(newNum)\n",
    "    if newNum < -10:\n",
    "        print(\"Your number is less than -10.\")\n",
    "        break\n",
    "    elif newNum > 10:\n",
    "        print (\"Your number is larger than 10.\")\n",
    "        break\n",
    "    else:\n",
    "        print (\"Your number is \" + str(newNum) + \".\")\n",
    "print ()\n",
    "print (\"Now you are out of the loop.\")"
   ]
  },
  {
   "cell_type": "code",
   "execution_count": null,
   "id": "bd324e70",
   "metadata": {},
   "outputs": [],
   "source": [
    "sentence = \"Programming is like solving a puzzle.\"\n",
    "countLetters = 0  \n",
    "for letter in sentence:\n",
    "    countLetters = countLetters + 1\n",
    "    print(letter, countLetters)\n",
    "print(\"Number of Characters and spaces: \" + str(countLetters) )"
   ]
  },
  {
   "cell_type": "code",
   "execution_count": null,
   "id": "b7e0b8ab",
   "metadata": {},
   "outputs": [],
   "source": [
    "sentence = \"Programming is like solving a puzzle.\"\n",
    "countLetters = 0\n",
    "for letter in sentence:\n",
    "    if letter == \" \":\n",
    "        continue\n",
    "    countLetters = countLetters + 1\n",
    "    print(letter, countLetters)\n",
    "print(\"Number of Characters: \" + str(countLetters) )"
   ]
  },
  {
   "cell_type": "code",
   "execution_count": null,
   "id": "8a6502f6",
   "metadata": {},
   "outputs": [],
   "source": [
    "sentence = \"Programming is like solving a puzzle.\"\n",
    "countLetters = 0\n",
    "for letter in sentence:\n",
    "    if letter == \" \" or letter == \".\" :\n",
    "        continue\n",
    "    countLetters = countLetters + 1\n",
    "    print(letter, countLetters)\n",
    "print(\"Number of letters: \" + str(countLetters) )"
   ]
  },
  {
   "cell_type": "code",
   "execution_count": null,
   "id": "62bc4842",
   "metadata": {},
   "outputs": [],
   "source": [
    "count = 1\n",
    "print(count)\n",
    "while (count < 3):\n",
    "    count = count + 1\n",
    "    print (count)\n",
    "print('Done')"
   ]
  },
  {
   "cell_type": "code",
   "execution_count": null,
   "id": "6df52300",
   "metadata": {},
   "outputs": [],
   "source": [
    "\n",
    "    \n",
    "\n"
   ]
  },
  {
   "cell_type": "code",
   "execution_count": 1,
   "id": "bda2337e",
   "metadata": {},
   "outputs": [
    {
     "name": "stdout",
     "output_type": "stream",
     "text": [
      "Enter a number: 1\n",
      "1\n",
      "6\n",
      "Enter a number: 2\n",
      "2\n",
      "7\n",
      "Enter a number: 3\n",
      "3\n",
      "8\n",
      "Enter a number: 4\n",
      "4\n",
      "9\n",
      "Enter a number: 5\n",
      "5\n",
      "10\n"
     ]
    }
   ],
   "source": [
    "n = 5\n",
    "while n < 10:\n",
    "    n+=1\n",
    "    \n",
    "    strInput = input(\"Enter a number: \")\n",
    "    print (strInput)\n",
    "    print(n)"
   ]
  },
  {
   "cell_type": "code",
   "execution_count": 2,
   "id": "2911b61f",
   "metadata": {},
   "outputs": [],
   "source": [
    "def Sum(num1, num2):\n",
    "    answer = num1 + num2\n",
    "    num1 = 33\n",
    "    return answer"
   ]
  },
  {
   "cell_type": "code",
   "execution_count": 4,
   "id": "9437a10c",
   "metadata": {},
   "outputs": [
    {
     "data": {
      "text/plain": [
       "5"
      ]
     },
     "execution_count": 4,
     "metadata": {},
     "output_type": "execute_result"
    }
   ],
   "source": [
    "Sum(2, 3)"
   ]
  },
  {
   "cell_type": "code",
   "execution_count": 5,
   "id": "97bc380c",
   "metadata": {},
   "outputs": [
    {
     "name": "stdout",
     "output_type": "stream",
     "text": [
      "Sum: 6\n",
      "num1 was 2 and is now still 2\n"
     ]
    }
   ],
   "source": [
    "num1 = 2\n",
    "num2 = 4\n",
    "mySum = Sum(num1, num2)\n",
    "print(\"Sum: \" + str(mySum))\n",
    "print (\"num1 was 2 and is now still \" + str(num1))"
   ]
  },
  {
   "cell_type": "code",
   "execution_count": 6,
   "id": "3f7fb8ab",
   "metadata": {},
   "outputs": [
    {
     "name": "stdout",
     "output_type": "stream",
     "text": [
      "-20\n"
     ]
    }
   ],
   "source": [
    "#Function definition\n",
    "def Difference(a,b):\n",
    "    return a - b\n",
    "\n",
    "#Main program\n",
    "a = 50\n",
    "b = 30\n",
    "answer = Difference(b,a)\n",
    "print (answer)"
   ]
  },
  {
   "cell_type": "code",
   "execution_count": 9,
   "id": "b5011a7e",
   "metadata": {},
   "outputs": [
    {
     "data": {
      "text/plain": [
       "35"
      ]
     },
     "execution_count": 9,
     "metadata": {},
     "output_type": "execute_result"
    }
   ],
   "source": [
    "\n",
    "# Defining functions\n",
    "def product(a, b):\n",
    "    answer = a*b\n",
    "    return answer\n",
    "# Calling Function\n",
    "product(5, 7)"
   ]
  },
  {
   "cell_type": "code",
   "execution_count": 14,
   "id": "cf1b5f65",
   "metadata": {},
   "outputs": [
    {
     "name": "stdout",
     "output_type": "stream",
     "text": [
      "Welcome to AMU: Rajaram Gautam\n",
      "Learn Python Skill and Enhance your Panda Knowledge to make Business Decision: Rajaram Gautam\n"
     ]
    }
   ],
   "source": [
    "# defining function\n",
    "def amu(student_name): # student_name is parameter to function\n",
    "    print(f'Welcome to AMU: {student_name}')\n",
    "    print(f'Learn Python Skill and Enhance your Panda Knowledge to make Business Decision: {student_name}')\n",
    "amu('Rajaram Gautam') # calling function    "
   ]
  },
  {
   "cell_type": "code",
   "execution_count": null,
   "id": "1de8f6d6",
   "metadata": {},
   "outputs": [],
   "source": []
  }
 ],
 "metadata": {
  "kernelspec": {
   "display_name": "Python 3 (ipykernel)",
   "language": "python",
   "name": "python3"
  },
  "language_info": {
   "codemirror_mode": {
    "name": "ipython",
    "version": 3
   },
   "file_extension": ".py",
   "mimetype": "text/x-python",
   "name": "python",
   "nbconvert_exporter": "python",
   "pygments_lexer": "ipython3",
   "version": "3.8.8"
  }
 },
 "nbformat": 4,
 "nbformat_minor": 5
}
