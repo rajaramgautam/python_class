{
 "cells": [
  {
   "cell_type": "code",
   "execution_count": null,
   "id": "740ececd",
   "metadata": {},
   "outputs": [],
   "source": [
    "import MyLib\n",
    "\n",
    "print(MyLib.sayHello(\"Sammy\"))"
   ]
  },
  {
   "cell_type": "code",
   "execution_count": null,
   "id": "dd72e008",
   "metadata": {},
   "outputs": [],
   "source": [
    "name=\"James Bond\"\n"
   ]
  },
  {
   "cell_type": "code",
   "execution_count": null,
   "id": "0df1febd",
   "metadata": {},
   "outputs": [],
   "source": [
    "print(name)"
   ]
  },
  {
   "cell_type": "code",
   "execution_count": null,
   "id": "3e790a14",
   "metadata": {},
   "outputs": [],
   "source": [
    "print(name[2:10])"
   ]
  },
  {
   "cell_type": "code",
   "execution_count": null,
   "id": "6ad4a099",
   "metadata": {},
   "outputs": [],
   "source": [
    "for i in name:\n",
    "    print(i)"
   ]
  },
  {
   "cell_type": "code",
   "execution_count": null,
   "id": "2b2f8639",
   "metadata": {},
   "outputs": [],
   "source": [
    "ostring=\"one,two,three\"\n",
    "\n",
    "astring=ostring.split(\",\")\n",
    "\n",
    "print(astring)"
   ]
  },
  {
   "cell_type": "code",
   "execution_count": null,
   "id": "3a93509c",
   "metadata": {},
   "outputs": [],
   "source": [
    "def calc(p):\n",
    "\n",
    "      lstring=p.split(\",\")\n",
    "\n",
    "      if lstring[2]==\"*\":\n",
    "\n",
    "         res= int(lstring[0]) * int(lstring[1])\n",
    "\n",
    "      if lstring[2]==\"+\":\n",
    "\n",
    "        res= int(lstring[0]) + int(lstring[1])\n",
    "      if lstring[2]==\"-\":\n",
    "\n",
    "         res= int(lstring[0]) - int(lstring[1])\n",
    "\n",
    "      if lstring[2]==\"/\":\n",
    "\n",
    "        res= int(lstring[0]) / int(lstring[1])  \n",
    "        \n",
    "\n",
    "      return res"
   ]
  },
  {
   "cell_type": "code",
   "execution_count": null,
   "id": "72b5e875",
   "metadata": {},
   "outputs": [],
   "source": [
    "astring = \"5,2,*\"\n",
    "\n",
    "print(calc(astring))"
   ]
  },
  {
   "cell_type": "code",
   "execution_count": null,
   "id": "9e418197",
   "metadata": {},
   "outputs": [],
   "source": [
    "astring = \"5,2,+\"\n",
    "print(calc(astring))"
   ]
  },
  {
   "cell_type": "code",
   "execution_count": null,
   "id": "f4622a16",
   "metadata": {},
   "outputs": [],
   "source": [
    "import myModule"
   ]
  },
  {
   "cell_type": "code",
   "execution_count": null,
   "id": "8f55b01e",
   "metadata": {},
   "outputs": [],
   "source": [
    "import myModule\n",
    "name = input(\"What is your name? \")\n",
    "myModule.Greeting(name)"
   ]
  },
  {
   "cell_type": "code",
   "execution_count": null,
   "id": "5365e398",
   "metadata": {},
   "outputs": [],
   "source": [
    "letter = input(\"Enter a single character: \")\n",
    "ascii = ord(letter)\n",
    "print (\"The ASCII value of your character is \" + str(ascii))"
   ]
  },
  {
   "cell_type": "code",
   "execution_count": null,
   "id": "a1929061",
   "metadata": {},
   "outputs": [],
   "source": [
    "print(\"ASCII Code and Character\")\n",
    "table = \"\"\n",
    "for i in range(100):\n",
    "    table = table + str(i) + \" \" + chr(i) + \"\\t\"\n",
    "print (table)"
   ]
  },
  {
   "cell_type": "code",
   "execution_count": 5,
   "id": "af942207",
   "metadata": {},
   "outputs": [
    {
     "name": "stdout",
     "output_type": "stream",
     "text": [
      "We are trying to build simple calculator.\n",
      "Please input first number between -100 to 100: 100\n",
      "Please input second number between -100 to 100: 100\n",
      "The sum of two numbers:  200.0\n",
      "The difference of two numbers:  0.0\n",
      "The product of two numbers:  10000.0\n",
      "The division of first number by second number results:  1.0\n",
      "Thanks for using our calculator!\n",
      "Enter your Lower range: 20\n",
      "Enter your Higher range: 20\n",
      "Enter your number: 0\n",
      "Please check the numbers and try again.\n",
      "Do you like to use again? n\n",
      "Thank you for using calculator.\n"
     ]
    }
   ],
   "source": [
    "import Wk4_Rajaram_Gautam\n"
   ]
  },
  {
   "cell_type": "code",
   "execution_count": 8,
   "id": "34a822de",
   "metadata": {},
   "outputs": [
    {
     "data": {
      "text/plain": [
       "1.0"
      ]
     },
     "execution_count": 8,
     "metadata": {},
     "output_type": "execute_result"
    }
   ],
   "source": [
    "import W2P2_rajaram_gautam\n",
    "W2P2_rajaram_gautam.division(100,100)\n"
   ]
  },
  {
   "cell_type": "code",
   "execution_count": 13,
   "id": "803e0af6",
   "metadata": {},
   "outputs": [
    {
     "name": "stdout",
     "output_type": "stream",
     "text": [
      "0 A\n",
      "1 a\n",
      "2 r\n",
      "3 v\n",
      "4 i\n",
      "5 k\n"
     ]
    }
   ],
   "source": [
    "name = 'Aarvik'\n",
    "i = 0\n",
    "for k in name:\n",
    "    print(i, k)\n",
    "    i = i+1"
   ]
  },
  {
   "cell_type": "code",
   "execution_count": 15,
   "id": "c0dbf229",
   "metadata": {},
   "outputs": [
    {
     "data": {
      "text/plain": [
       "6"
      ]
     },
     "execution_count": 15,
     "metadata": {},
     "output_type": "execute_result"
    }
   ],
   "source": [
    "len(name)"
   ]
  },
  {
   "cell_type": "code",
   "execution_count": 18,
   "id": "0b7f41cf",
   "metadata": {},
   "outputs": [
    {
     "data": {
      "image/png": "[encoded data removed]",
      "text/plain": [
       "<Figure size 432x288 with 1 Axes>"
      ]
     },
     "metadata": {
      "needs_background": "light"
     },
     "output_type": "display_data"
    }
   ],
   "source": [
    "import matplotlib.pyplot as plt\n",
    "import numpy as np\n",
    "\n",
    "xpoint = np.array([-10, 10])\n",
    "ypoint = np.array([25, 50])\n",
    "\n",
    "plt.plot(xpoint, ypoint)\n",
    "plt.show()\n"
   ]
  },
  {
   "cell_type": "code",
   "execution_count": null,
   "id": "6bee0bee",
   "metadata": {},
   "outputs": [],
   "source": []
  }
 ],
 "metadata": {
  "kernelspec": {
   "display_name": "Python 3 (ipykernel)",
   "language": "python",
   "name": "python3"
  },
  "language_info": {
   "codemirror_mode": {
    "name": "ipython",
    "version": 3
   },
   "file_extension": ".py",
   "mimetype": "text/x-python",
   "name": "python",
   "nbconvert_exporter": "python",
   "pygments_lexer": "ipython3",
   "version": "3.8.8"
  }
 },
 "nbformat": 4,
 "nbformat_minor": 5
}
