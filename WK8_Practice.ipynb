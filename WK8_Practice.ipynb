{
 "cells": [
  {
   "cell_type": "code",
   "execution_count": null,
   "id": "f47084f5",
   "metadata": {},
   "outputs": [],
   "source": [
    "foodPricePairs = [['pear', 0.80],['celery', 0.50],['apple',0.50]]\n",
    "for item in foodPricePairs:\n",
    "    lineStr = \"{0}, {1}\".format(item[0],item[1]) \n",
    "    print(lineStr)"
   ]
  },
  {
   "cell_type": "code",
   "execution_count": null,
   "id": "5d56294e",
   "metadata": {},
   "outputs": [],
   "source": [
    "import csv\n",
    "foodPricePairs = [['pear', 0.80],['celery', 0.50],['apple',0.50]]\n",
    "with open(\"food.csv\",\"w\") as outFile:\n",
    "    for item in foodPricePairs:\n",
    "        lineStr = \"{0}, {1}\".format(item[0],item[1])\n",
    "        lineStr = lineStr + \"\\n\"\n",
    "        outFile.write(lineStr )\n",
    "outFile.close()\n",
    "print (\"Saved in food.csv\")"
   ]
  },
  {
   "cell_type": "markdown",
   "id": "217073d3",
   "metadata": {},
   "source": [
    "### Create a text file"
   ]
  },
  {
   "cell_type": "code",
   "execution_count": null,
   "id": "acb61311",
   "metadata": {},
   "outputs": [],
   "source": [
    "file = open(\"myfile.txt\", \"w\")\n",
    "\n",
    "print(file) ### the file object\n",
    "\n",
    "file.write(\"hello class this is my file\")\n",
    "\n",
    "file.write(\"\\nand this is another line \") ### \\n for new line\n",
    "\n",
    "file.close()"
   ]
  },
  {
   "cell_type": "code",
   "execution_count": null,
   "id": "2861e5ea",
   "metadata": {},
   "outputs": [],
   "source": [
    "open(\"myfile.txt\", 'r')"
   ]
  },
  {
   "cell_type": "markdown",
   "id": "c52228ce",
   "metadata": {},
   "source": [
    "### Read a Text File"
   ]
  },
  {
   "cell_type": "code",
   "execution_count": null,
   "id": "9fd2baed",
   "metadata": {},
   "outputs": [],
   "source": [
    "file = open('myfile.txt', 'r')\n",
    "\n",
    "print (file.read())"
   ]
  },
  {
   "cell_type": "code",
   "execution_count": null,
   "id": "54c18baa",
   "metadata": {},
   "outputs": [],
   "source": [
    "file = open('myfile.txt', 'r')\n",
    "\n",
    "print (file.read())"
   ]
  },
  {
   "cell_type": "code",
   "execution_count": null,
   "id": "0cf64f3f",
   "metadata": {},
   "outputs": [],
   "source": [
    "file = open('myfile.txt', 'r')\n",
    "\n",
    "print (file.read(7))"
   ]
  },
  {
   "cell_type": "code",
   "execution_count": null,
   "id": "e347d48b",
   "metadata": {},
   "outputs": [],
   "source": [
    "# You can also read the file line by line, here is an example;\n",
    "\n",
    "file = open('myfile.txt', 'r')\n",
    "\n",
    "lineno=0\n",
    "\n",
    "for line in file:\n",
    "\n",
    "    lineno=lineno+1\n",
    "\n",
    "    print (lineno,\"\",line)"
   ]
  },
  {
   "cell_type": "code",
   "execution_count": null,
   "id": "8ff03e61",
   "metadata": {},
   "outputs": [],
   "source": [
    "with open(\"myfile.txt\") as file:      # Use file to refer to the file object\n",
    "\n",
    "    data = file.read()\n",
    "\n",
    "    # do something with data\n",
    "\n",
    "# You also loop over the file object:\n",
    "\n",
    "with open(\"myfile.txt\") as f:\n",
    "\n",
    "    for line in f:\n",
    "\n",
    "        print (line)\n",
    "\n"
   ]
  },
  {
   "cell_type": "code",
   "execution_count": null,
   "id": "dde84f9f",
   "metadata": {},
   "outputs": [],
   "source": [
    "with open(\"hello.txt\", \"w\") as f:\n",
    "\n",
    "        f.write(\"Hello World\")"
   ]
  },
  {
   "cell_type": "code",
   "execution_count": null,
   "id": "428f3a67",
   "metadata": {},
   "outputs": [],
   "source": [
    "file = open('hello.txt', 'r')\n",
    "\n",
    "print (file.read())"
   ]
  },
  {
   "cell_type": "code",
   "execution_count": null,
   "id": "6e5a93a9",
   "metadata": {},
   "outputs": [],
   "source": [
    "# reading and writing\n",
    "\n",
    "#Write a file\n",
    "\n",
    "with open(\"test8.txt\", \"w\") as out_file:\n",
    "\n",
    " \n",
    "\n",
    " out_file.write(\"This Text is going to out file\\nLook at it and see!\")\n",
    "\n",
    " myinput = input(\"Enter a phrase \")\n",
    "\n",
    " out_file.write(myinput)"
   ]
  },
  {
   "cell_type": "code",
   "execution_count": null,
   "id": "7e8977c8",
   "metadata": {},
   "outputs": [],
   "source": [
    "file = open('test8.txt', 'r')\n",
    "\n",
    "print (file.read())"
   ]
  },
  {
   "cell_type": "code",
   "execution_count": null,
   "id": "3f66e6bc",
   "metadata": {},
   "outputs": [],
   "source": [
    "# Read a file\n",
    "\n",
    "with open(\"test8.txt\", \"r\") as in_file:\n",
    "\n",
    "  text = in_file.read()\n",
    "\n",
    " \n",
    "\n",
    "print(text)"
   ]
  },
  {
   "cell_type": "code",
   "execution_count": null,
   "id": "048596aa",
   "metadata": {},
   "outputs": [],
   "source": [
    "#Let’s create an Excel  file or CSV\n",
    "\n",
    "# Comma Separated Values\n",
    "\n",
    "with open(\"test.csv\", \"w\") as out_file:  \n",
    "\n",
    "    m = int(input(\"Enter an integer to create a mult table \"))\n",
    "\n",
    "    for i in range(11):\n",
    "\n",
    "     print (i,\"*\",m,\"=\",(i*m))\n",
    "\n",
    "     out_file.write( str(i)+\", \"+\"*,\"+str(m)+\", \"+\"=,\"+str(i*m)+\"\\n\")\n",
    "\n",
    "    out_file.write(\"Done\\n\")"
   ]
  },
  {
   "cell_type": "code",
   "execution_count": null,
   "id": "a9465dda",
   "metadata": {},
   "outputs": [],
   "source": [
    "import sqlite3\n",
    "connd  = sqlite3.connect('ENTD220.db')       ## You can include a path to database on the disk\n",
    "\n",
    "connm = sqlite3.connect(\":memory:\")                ## This way you are creating The database in memory."
   ]
  },
  {
   "cell_type": "code",
   "execution_count": null,
   "id": "6a60d87c",
   "metadata": {},
   "outputs": [],
   "source": [
    "# Step 3\n",
    "\n",
    "# Creating a cursor\n",
    "\n",
    "c = connd.cursor()\n",
    "\n",
    " \n",
    "\n",
    "# Step 4\n",
    "\n",
    "# Create table\n",
    "\n",
    "c.execute('''CREATE TABLE rolodex  (Fname text, Lname text, Tel text)''')\n",
    "\n",
    " \n",
    "\n",
    "# Step 5\n",
    "\n",
    "# Insert a row of data\n",
    "c.execute(\"INSERT INTO rolodex VALUES ('James','Bond','007-007-0007')\")\n",
    "\n",
    " \n",
    "\n",
    "# Step 6\n",
    "\n",
    "# Save (commit) the changes\n",
    "connd.commit()\n",
    "\n",
    " \n",
    "\n",
    "# Step 7\n",
    "\n",
    "# it is preferred to close the connection if you are done with it.\n",
    "# Just be sure any changes have been committed or they will be lost.\n",
    "connd.close()\n",
    "\n",
    " \n",
    "\n",
    " \n",
    "\n",
    "# Testing the database, to test the database create another program with the following\n",
    "\n",
    " \n",
    "\n",
    "import sqlite3\n",
    "connd  = sqlite3.connect('ENTD220.db')\n",
    "\n",
    "c = connd.cursor()\n",
    "\n",
    "for row in c.execute('SELECT * FROM  Rolodex  ORDER BY  1'):\n",
    "        print (row)"
   ]
  },
  {
   "cell_type": "code",
   "execution_count": null,
   "id": "2d12eebb",
   "metadata": {},
   "outputs": [],
   "source": [
    "foodPricePairs = [['pear', 0.80],['celery', 0.50],['apple',0.50]]\n",
    "for item in foodPricePairs:\n",
    "    lineStr = \"{0}, {1}\".format(item[0],item[1]) \n",
    "    print(lineStr)"
   ]
  },
  {
   "cell_type": "code",
   "execution_count": 1,
   "id": "0c8ceb8c",
   "metadata": {},
   "outputs": [
    {
     "name": "stdout",
     "output_type": "stream",
     "text": [
      "Saved in food.csv\n"
     ]
    }
   ],
   "source": [
    "import csv\n",
    "foodPricePairs = [['pear', 0.80],['celery', 0.50],['apple',0.50]]\n",
    "with open(\"food.csv\",\"w\") as outFile:\n",
    "    for item in foodPricePairs:\n",
    "        lineStr = \"{0}, {1}\".format(item[0],item[1])\n",
    "        lineStr = lineStr + \"\\n\"\n",
    "        outFile.write(lineStr )\n",
    "outFile.close()\n",
    "print (\"Saved in food.csv\")"
   ]
  },
  {
   "cell_type": "code",
   "execution_count": 2,
   "id": "e3bb927a",
   "metadata": {},
   "outputs": [
    {
     "name": "stdout",
     "output_type": "stream",
     "text": [
      "pear, 0.8\n",
      "celery, 0.5\n",
      "apple, 0.5\n",
      "\n"
     ]
    }
   ],
   "source": [
    "with open(\"food.csv\", 'r') as outline:\n",
    "    text1 = outline.read()\n",
    "print(text1)"
   ]
  },
  {
   "cell_type": "code",
   "execution_count": 3,
   "id": "47357583",
   "metadata": {},
   "outputs": [
    {
     "name": "stdout",
     "output_type": "stream",
     "text": [
      "This Text is going to out file\n",
      "Look at it and see!Rajaram\n"
     ]
    }
   ],
   "source": [
    "with open(\"test8.txt\", \"r\") as in_file:\n",
    "\n",
    "  text = in_file.read()\n",
    "\n",
    " \n",
    "\n",
    "print(text)"
   ]
  },
  {
   "cell_type": "code",
   "execution_count": 4,
   "id": "79be5cf8",
   "metadata": {},
   "outputs": [
    {
     "name": "stdout",
     "output_type": "stream",
     "text": [
      "Saved in food.txt\n"
     ]
    }
   ],
   "source": [
    "import csv\n",
    "foodPricePairs = [['pear', 0.80],['celery', 0.50],['apple',0.50]]\n",
    "with open(\"food.txt\",\"a\") as outFile:\n",
    "    for item in foodPricePairs:\n",
    "        lineStr = \"{0}, {1}\".format(item[0],item[1])\n",
    "        lineStr = lineStr + \"\\n\"\n",
    "        outFile.write(lineStr )\n",
    "outFile.close()\n",
    "print (\"Saved in food.txt\")"
   ]
  },
  {
   "cell_type": "code",
   "execution_count": 6,
   "id": "8f4708d2",
   "metadata": {},
   "outputs": [
    {
     "name": "stdout",
     "output_type": "stream",
     "text": [
      "pear, 0.8\n",
      "celery, 0.5\n",
      "apple, 0.5\n",
      "\n"
     ]
    }
   ],
   "source": [
    "with open(\"food.txt\", 'r') as outline:\n",
    "    text2 = outline.read()\n",
    "print(text2)"
   ]
  },
  {
   "cell_type": "code",
   "execution_count": 8,
   "id": "c6748c34",
   "metadata": {},
   "outputs": [
    {
     "name": "stdout",
     "output_type": "stream",
     "text": [
      "pear, 0.8\n",
      "celery, 0.5\n",
      "apple, 0.5\n",
      "\n"
     ]
    }
   ],
   "source": [
    "# Reading a File\n",
    "\n",
    "import csv\n",
    "with open(\"food.txt\",\"r\") as inFile:\n",
    "    strIn = inFile.read()\n",
    "    print (strIn)\n",
    "inFile.close()"
   ]
  },
  {
   "cell_type": "code",
   "execution_count": 9,
   "id": "6690e86a",
   "metadata": {},
   "outputs": [
    {
     "name": "stdout",
     "output_type": "stream",
     "text": [
      "['pear', ' 0.8']\n",
      "['celery', ' 0.5']\n",
      "['apple', ' 0.5']\n"
     ]
    }
   ],
   "source": [
    "import csv\n",
    "with open(\"food.txt\",\"r\", newline=\"\\n\") as inFile:\n",
    "    myReader = csv.reader(inFile)\n",
    "    for item in myReader:\n",
    "        print(item)\n",
    "inFile.close()"
   ]
  },
  {
   "cell_type": "code",
   "execution_count": 10,
   "id": "2b58934f",
   "metadata": {},
   "outputs": [],
   "source": [
    "import csv\n",
    "outStr = \"\"\n",
    "lineStr = \"\"\n",
    "with open(\"food.txt\",\"r\", newline=\"\\n\") as inFile:\n",
    "    myReader = csv.reader(inFile)\n",
    "    for item in myReader:\n",
    "        oldCost = item[1]\n",
    "        oldCost = float(oldCost)\n",
    "        newCost = oldCost * 1.25\n",
    "        lineStr = \"{0}, {1}\".format(item[0],newCost)\n",
    "        lineStr = lineStr + \"\\n\"\n",
    "        outStr = outStr + lineStr\n",
    "inFile.close()\n",
    "#write\n",
    "with open(\"foodNew.txt\",\"w\") as outFile:\n",
    "    outFile.write(outStr)\n",
    "outFile.close()"
   ]
  },
  {
   "cell_type": "code",
   "execution_count": 11,
   "id": "d7c1f51e",
   "metadata": {},
   "outputs": [
    {
     "name": "stdout",
     "output_type": "stream",
     "text": [
      "Food.txt was removed\n"
     ]
    }
   ],
   "source": [
    "import os\n",
    "os.remove(\"food.txt\")\n",
    "print (\"Food.txt was removed\")"
   ]
  },
  {
   "cell_type": "code",
   "execution_count": null,
   "id": "862912ca",
   "metadata": {},
   "outputs": [],
   "source": []
  }
 ],
 "metadata": {
  "kernelspec": {
   "display_name": "Python 3 (ipykernel)",
   "language": "python",
   "name": "python3"
  },
  "language_info": {
   "codemirror_mode": {
    "name": "ipython",
    "version": 3
   },
   "file_extension": ".py",
   "mimetype": "text/x-python",
   "name": "python",
   "nbconvert_exporter": "python",
   "pygments_lexer": "ipython3",
   "version": "3.8.8"
  }
 },
 "nbformat": 4,
 "nbformat_minor": 5
}
